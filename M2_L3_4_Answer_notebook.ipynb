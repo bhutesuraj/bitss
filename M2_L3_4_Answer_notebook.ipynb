{
  "nbformat": 4,
  "nbformat_minor": 0,
  "metadata": {
    "colab": {
      "provenance": []
    },
    "kernelspec": {
      "name": "python3",
      "display_name": "Python 3"
    },
    "language_info": {
      "name": "python"
    }
  },
  "cells": [
    {
      "cell_type": "markdown",
      "source": [
        "# Labsheet"
      ],
      "metadata": {
        "id": "5sirV1XGSlBs"
      }
    },
    {
      "cell_type": "code",
      "execution_count": 21,
      "metadata": {
        "id": "jUNap9DAMpUB"
      },
      "outputs": [],
      "source": [
        "import re  # For preprocessing\n",
        "import pandas as pd  # For data handling\n",
        "import spacy  # For preprocessing\n",
        "from time import time  # To time our operations\n",
        "from collections import defaultdict  # For word frequency"
      ]
    },
    {
      "cell_type": "code",
      "source": [
        "df = pd.read_csv('/content/simpsons_dataset.csv')\n",
        "df.shape"
      ],
      "metadata": {
        "colab": {
          "base_uri": "https://localhost:8080/"
        },
        "id": "-WG42GR1M9a7",
        "outputId": "c35ead4e-7bf2-4285-8a21-78a09cd7c533"
      },
      "execution_count": 4,
      "outputs": [
        {
          "output_type": "execute_result",
          "data": {
            "text/plain": [
              "(158314, 2)"
            ]
          },
          "metadata": {},
          "execution_count": 4
        }
      ]
    },
    {
      "cell_type": "code",
      "source": [
        "df.head()"
      ],
      "metadata": {
        "colab": {
          "base_uri": "https://localhost:8080/",
          "height": 206
        },
        "id": "dF0gVZsUNSRB",
        "outputId": "42f7390f-86af-4eca-8675-eee20fa103e8"
      },
      "execution_count": 5,
      "outputs": [
        {
          "output_type": "execute_result",
          "data": {
            "text/plain": [
              "        raw_character_text                                       spoken_words\n",
              "0              Miss Hoover  No, actually, it was a little of both. Sometim...\n",
              "1             Lisa Simpson                             Where's Mr. Bergstrom?\n",
              "2              Miss Hoover  I don't know. Although I'd sure like to talk t...\n",
              "3             Lisa Simpson                         That life is worth living.\n",
              "4  Edna Krabappel-Flanders  The polls will be open from now until the end ..."
            ],
            "text/html": [
              "\n",
              "  <div id=\"df-b91af54a-c1e6-4d0c-8f6c-25acb10ccb9e\" class=\"colab-df-container\">\n",
              "    <div>\n",
              "<style scoped>\n",
              "    .dataframe tbody tr th:only-of-type {\n",
              "        vertical-align: middle;\n",
              "    }\n",
              "\n",
              "    .dataframe tbody tr th {\n",
              "        vertical-align: top;\n",
              "    }\n",
              "\n",
              "    .dataframe thead th {\n",
              "        text-align: right;\n",
              "    }\n",
              "</style>\n",
              "<table border=\"1\" class=\"dataframe\">\n",
              "  <thead>\n",
              "    <tr style=\"text-align: right;\">\n",
              "      <th></th>\n",
              "      <th>raw_character_text</th>\n",
              "      <th>spoken_words</th>\n",
              "    </tr>\n",
              "  </thead>\n",
              "  <tbody>\n",
              "    <tr>\n",
              "      <th>0</th>\n",
              "      <td>Miss Hoover</td>\n",
              "      <td>No, actually, it was a little of both. Sometim...</td>\n",
              "    </tr>\n",
              "    <tr>\n",
              "      <th>1</th>\n",
              "      <td>Lisa Simpson</td>\n",
              "      <td>Where's Mr. Bergstrom?</td>\n",
              "    </tr>\n",
              "    <tr>\n",
              "      <th>2</th>\n",
              "      <td>Miss Hoover</td>\n",
              "      <td>I don't know. Although I'd sure like to talk t...</td>\n",
              "    </tr>\n",
              "    <tr>\n",
              "      <th>3</th>\n",
              "      <td>Lisa Simpson</td>\n",
              "      <td>That life is worth living.</td>\n",
              "    </tr>\n",
              "    <tr>\n",
              "      <th>4</th>\n",
              "      <td>Edna Krabappel-Flanders</td>\n",
              "      <td>The polls will be open from now until the end ...</td>\n",
              "    </tr>\n",
              "  </tbody>\n",
              "</table>\n",
              "</div>\n",
              "    <div class=\"colab-df-buttons\">\n",
              "\n",
              "  <div class=\"colab-df-container\">\n",
              "    <button class=\"colab-df-convert\" onclick=\"convertToInteractive('df-b91af54a-c1e6-4d0c-8f6c-25acb10ccb9e')\"\n",
              "            title=\"Convert this dataframe to an interactive table.\"\n",
              "            style=\"display:none;\">\n",
              "\n",
              "  <svg xmlns=\"http://www.w3.org/2000/svg\" height=\"24px\" viewBox=\"0 -960 960 960\">\n",
              "    <path d=\"M120-120v-720h720v720H120Zm60-500h600v-160H180v160Zm220 220h160v-160H400v160Zm0 220h160v-160H400v160ZM180-400h160v-160H180v160Zm440 0h160v-160H620v160ZM180-180h160v-160H180v160Zm440 0h160v-160H620v160Z\"/>\n",
              "  </svg>\n",
              "    </button>\n",
              "\n",
              "  <style>\n",
              "    .colab-df-container {\n",
              "      display:flex;\n",
              "      gap: 12px;\n",
              "    }\n",
              "\n",
              "    .colab-df-convert {\n",
              "      background-color: #E8F0FE;\n",
              "      border: none;\n",
              "      border-radius: 50%;\n",
              "      cursor: pointer;\n",
              "      display: none;\n",
              "      fill: #1967D2;\n",
              "      height: 32px;\n",
              "      padding: 0 0 0 0;\n",
              "      width: 32px;\n",
              "    }\n",
              "\n",
              "    .colab-df-convert:hover {\n",
              "      background-color: #E2EBFA;\n",
              "      box-shadow: 0px 1px 2px rgba(60, 64, 67, 0.3), 0px 1px 3px 1px rgba(60, 64, 67, 0.15);\n",
              "      fill: #174EA6;\n",
              "    }\n",
              "\n",
              "    .colab-df-buttons div {\n",
              "      margin-bottom: 4px;\n",
              "    }\n",
              "\n",
              "    [theme=dark] .colab-df-convert {\n",
              "      background-color: #3B4455;\n",
              "      fill: #D2E3FC;\n",
              "    }\n",
              "\n",
              "    [theme=dark] .colab-df-convert:hover {\n",
              "      background-color: #434B5C;\n",
              "      box-shadow: 0px 1px 3px 1px rgba(0, 0, 0, 0.15);\n",
              "      filter: drop-shadow(0px 1px 2px rgba(0, 0, 0, 0.3));\n",
              "      fill: #FFFFFF;\n",
              "    }\n",
              "  </style>\n",
              "\n",
              "    <script>\n",
              "      const buttonEl =\n",
              "        document.querySelector('#df-b91af54a-c1e6-4d0c-8f6c-25acb10ccb9e button.colab-df-convert');\n",
              "      buttonEl.style.display =\n",
              "        google.colab.kernel.accessAllowed ? 'block' : 'none';\n",
              "\n",
              "      async function convertToInteractive(key) {\n",
              "        const element = document.querySelector('#df-b91af54a-c1e6-4d0c-8f6c-25acb10ccb9e');\n",
              "        const dataTable =\n",
              "          await google.colab.kernel.invokeFunction('convertToInteractive',\n",
              "                                                    [key], {});\n",
              "        if (!dataTable) return;\n",
              "\n",
              "        const docLinkHtml = 'Like what you see? Visit the ' +\n",
              "          '<a target=\"_blank\" href=https://colab.research.google.com/notebooks/data_table.ipynb>data table notebook</a>'\n",
              "          + ' to learn more about interactive tables.';\n",
              "        element.innerHTML = '';\n",
              "        dataTable['output_type'] = 'display_data';\n",
              "        await google.colab.output.renderOutput(dataTable, element);\n",
              "        const docLink = document.createElement('div');\n",
              "        docLink.innerHTML = docLinkHtml;\n",
              "        element.appendChild(docLink);\n",
              "      }\n",
              "    </script>\n",
              "  </div>\n",
              "\n",
              "\n",
              "<div id=\"df-33315cac-7081-4b2a-b34a-8cdc53ff0db2\">\n",
              "  <button class=\"colab-df-quickchart\" onclick=\"quickchart('df-33315cac-7081-4b2a-b34a-8cdc53ff0db2')\"\n",
              "            title=\"Suggest charts\"\n",
              "            style=\"display:none;\">\n",
              "\n",
              "<svg xmlns=\"http://www.w3.org/2000/svg\" height=\"24px\"viewBox=\"0 0 24 24\"\n",
              "     width=\"24px\">\n",
              "    <g>\n",
              "        <path d=\"M19 3H5c-1.1 0-2 .9-2 2v14c0 1.1.9 2 2 2h14c1.1 0 2-.9 2-2V5c0-1.1-.9-2-2-2zM9 17H7v-7h2v7zm4 0h-2V7h2v10zm4 0h-2v-4h2v4z\"/>\n",
              "    </g>\n",
              "</svg>\n",
              "  </button>\n",
              "\n",
              "<style>\n",
              "  .colab-df-quickchart {\n",
              "      --bg-color: #E8F0FE;\n",
              "      --fill-color: #1967D2;\n",
              "      --hover-bg-color: #E2EBFA;\n",
              "      --hover-fill-color: #174EA6;\n",
              "      --disabled-fill-color: #AAA;\n",
              "      --disabled-bg-color: #DDD;\n",
              "  }\n",
              "\n",
              "  [theme=dark] .colab-df-quickchart {\n",
              "      --bg-color: #3B4455;\n",
              "      --fill-color: #D2E3FC;\n",
              "      --hover-bg-color: #434B5C;\n",
              "      --hover-fill-color: #FFFFFF;\n",
              "      --disabled-bg-color: #3B4455;\n",
              "      --disabled-fill-color: #666;\n",
              "  }\n",
              "\n",
              "  .colab-df-quickchart {\n",
              "    background-color: var(--bg-color);\n",
              "    border: none;\n",
              "    border-radius: 50%;\n",
              "    cursor: pointer;\n",
              "    display: none;\n",
              "    fill: var(--fill-color);\n",
              "    height: 32px;\n",
              "    padding: 0;\n",
              "    width: 32px;\n",
              "  }\n",
              "\n",
              "  .colab-df-quickchart:hover {\n",
              "    background-color: var(--hover-bg-color);\n",
              "    box-shadow: 0 1px 2px rgba(60, 64, 67, 0.3), 0 1px 3px 1px rgba(60, 64, 67, 0.15);\n",
              "    fill: var(--button-hover-fill-color);\n",
              "  }\n",
              "\n",
              "  .colab-df-quickchart-complete:disabled,\n",
              "  .colab-df-quickchart-complete:disabled:hover {\n",
              "    background-color: var(--disabled-bg-color);\n",
              "    fill: var(--disabled-fill-color);\n",
              "    box-shadow: none;\n",
              "  }\n",
              "\n",
              "  .colab-df-spinner {\n",
              "    border: 2px solid var(--fill-color);\n",
              "    border-color: transparent;\n",
              "    border-bottom-color: var(--fill-color);\n",
              "    animation:\n",
              "      spin 1s steps(1) infinite;\n",
              "  }\n",
              "\n",
              "  @keyframes spin {\n",
              "    0% {\n",
              "      border-color: transparent;\n",
              "      border-bottom-color: var(--fill-color);\n",
              "      border-left-color: var(--fill-color);\n",
              "    }\n",
              "    20% {\n",
              "      border-color: transparent;\n",
              "      border-left-color: var(--fill-color);\n",
              "      border-top-color: var(--fill-color);\n",
              "    }\n",
              "    30% {\n",
              "      border-color: transparent;\n",
              "      border-left-color: var(--fill-color);\n",
              "      border-top-color: var(--fill-color);\n",
              "      border-right-color: var(--fill-color);\n",
              "    }\n",
              "    40% {\n",
              "      border-color: transparent;\n",
              "      border-right-color: var(--fill-color);\n",
              "      border-top-color: var(--fill-color);\n",
              "    }\n",
              "    60% {\n",
              "      border-color: transparent;\n",
              "      border-right-color: var(--fill-color);\n",
              "    }\n",
              "    80% {\n",
              "      border-color: transparent;\n",
              "      border-right-color: var(--fill-color);\n",
              "      border-bottom-color: var(--fill-color);\n",
              "    }\n",
              "    90% {\n",
              "      border-color: transparent;\n",
              "      border-bottom-color: var(--fill-color);\n",
              "    }\n",
              "  }\n",
              "</style>\n",
              "\n",
              "  <script>\n",
              "    async function quickchart(key) {\n",
              "      const quickchartButtonEl =\n",
              "        document.querySelector('#' + key + ' button');\n",
              "      quickchartButtonEl.disabled = true;  // To prevent multiple clicks.\n",
              "      quickchartButtonEl.classList.add('colab-df-spinner');\n",
              "      try {\n",
              "        const charts = await google.colab.kernel.invokeFunction(\n",
              "            'suggestCharts', [key], {});\n",
              "      } catch (error) {\n",
              "        console.error('Error during call to suggestCharts:', error);\n",
              "      }\n",
              "      quickchartButtonEl.classList.remove('colab-df-spinner');\n",
              "      quickchartButtonEl.classList.add('colab-df-quickchart-complete');\n",
              "    }\n",
              "    (() => {\n",
              "      let quickchartButtonEl =\n",
              "        document.querySelector('#df-33315cac-7081-4b2a-b34a-8cdc53ff0db2 button');\n",
              "      quickchartButtonEl.style.display =\n",
              "        google.colab.kernel.accessAllowed ? 'block' : 'none';\n",
              "    })();\n",
              "  </script>\n",
              "</div>\n",
              "    </div>\n",
              "  </div>\n"
            ],
            "application/vnd.google.colaboratory.intrinsic+json": {
              "type": "dataframe",
              "variable_name": "df"
            }
          },
          "metadata": {},
          "execution_count": 5
        }
      ]
    },
    {
      "cell_type": "code",
      "source": [
        "df.isnull().sum()"
      ],
      "metadata": {
        "colab": {
          "base_uri": "https://localhost:8080/"
        },
        "id": "g8PZSZfmNfB5",
        "outputId": "9382b482-4210-497b-b6c3-02b760e8e27e"
      },
      "execution_count": 6,
      "outputs": [
        {
          "output_type": "execute_result",
          "data": {
            "text/plain": [
              "raw_character_text    17814\n",
              "spoken_words          26459\n",
              "dtype: int64"
            ]
          },
          "metadata": {},
          "execution_count": 6
        }
      ]
    },
    {
      "cell_type": "code",
      "source": [
        "df = df.dropna().reset_index(drop=True)\n",
        "df.isnull().sum()"
      ],
      "metadata": {
        "colab": {
          "base_uri": "https://localhost:8080/"
        },
        "id": "YfhZk4awNf6_",
        "outputId": "1972c1c0-f50e-453b-c602-3018bb80f7ca"
      },
      "execution_count": 7,
      "outputs": [
        {
          "output_type": "execute_result",
          "data": {
            "text/plain": [
              "raw_character_text    0\n",
              "spoken_words          0\n",
              "dtype: int64"
            ]
          },
          "metadata": {},
          "execution_count": 7
        }
      ]
    },
    {
      "cell_type": "code",
      "source": [
        "nlp = spacy.load('en_core_web_sm', disable=['ner', 'parser']) # disabling Named Entity Recognition for speed\n",
        "\n",
        "def cleaning(doc):\n",
        "    # Lemmatizes and removes stopwords\n",
        "    # doc needs to be a spacy Doc object\n",
        "    txt = [token.lemma_ for token in doc if not token.is_stop]\n",
        "    # Word2Vec uses context words to learn the vector representation of a target word,\n",
        "    # if a sentence is only one or two words long,\n",
        "    # the benefit for the training is very small\n",
        "    if len(txt) > 2:\n",
        "        return ' '.join(txt)"
      ],
      "metadata": {
        "id": "f96TX2g8NiMP"
      },
      "execution_count": 11,
      "outputs": []
    },
    {
      "cell_type": "code",
      "source": [
        "brief_cleaning = (re.sub(\"[^A-Za-z']+\", ' ', str(row)).lower() for row in df['spoken_words'])"
      ],
      "metadata": {
        "id": "0UUiPRJKNuE6"
      },
      "execution_count": 12,
      "outputs": []
    },
    {
      "cell_type": "code",
      "source": [
        "t = time()\n",
        "\n",
        "txt = [cleaning(doc) for doc in nlp.pipe(brief_cleaning, batch_size=5000, n_process=-1)]\n",
        "\n",
        "print('Time to clean up everything: {} mins'.format(round((time() - t) / 60, 2)))"
      ],
      "metadata": {
        "colab": {
          "base_uri": "https://localhost:8080/"
        },
        "id": "NZSncGi-Nxgi",
        "outputId": "5c45b568-906f-47e7-c5f7-b48380331669"
      },
      "execution_count": 15,
      "outputs": [
        {
          "output_type": "stream",
          "name": "stdout",
          "text": [
            "Time to clean up everything: 5.95 mins\n"
          ]
        }
      ]
    },
    {
      "cell_type": "code",
      "source": [
        "df_clean = pd.DataFrame({'clean': txt})\n",
        "df_clean = df_clean.dropna().drop_duplicates()\n",
        "df_clean.shape"
      ],
      "metadata": {
        "colab": {
          "base_uri": "https://localhost:8080/"
        },
        "id": "lkbVIIM9Nziq",
        "outputId": "3a0b3441-05f9-4df7-d420-a28be8ab3098"
      },
      "execution_count": 16,
      "outputs": [
        {
          "output_type": "execute_result",
          "data": {
            "text/plain": [
              "(85955, 1)"
            ]
          },
          "metadata": {},
          "execution_count": 16
        }
      ]
    },
    {
      "cell_type": "code",
      "source": [
        "from gensim.models.phrases import Phrases, Phraser\n",
        "sent = [row.split() for row in df_clean['clean']]\n",
        "phrases = Phrases(sent, min_count=30, progress_per=10000)\n",
        "bigram = Phraser(phrases)\n",
        "sentences = bigram[sent]"
      ],
      "metadata": {
        "id": "k62KXH76QzZU"
      },
      "execution_count": 23,
      "outputs": []
    },
    {
      "cell_type": "code",
      "source": [
        "word_freq = defaultdict(int)\n",
        "for sent in sentences:\n",
        "    for i in sent:\n",
        "        word_freq[i] += 1\n",
        "len(word_freq)"
      ],
      "metadata": {
        "colab": {
          "base_uri": "https://localhost:8080/"
        },
        "id": "N86_lyQvPKb0",
        "outputId": "de100b6b-a610-499d-c585-9066b7c7894f"
      },
      "execution_count": 25,
      "outputs": [
        {
          "output_type": "execute_result",
          "data": {
            "text/plain": [
              "29694"
            ]
          },
          "metadata": {},
          "execution_count": 25
        }
      ]
    },
    {
      "cell_type": "code",
      "source": [
        "sorted(word_freq, key=word_freq.get, reverse=True)[:10]"
      ],
      "metadata": {
        "colab": {
          "base_uri": "https://localhost:8080/"
        },
        "id": "HYzx6upqRLwT",
        "outputId": "4304d6c5-7c02-41ea-8073-91fb724638ef"
      },
      "execution_count": 26,
      "outputs": [
        {
          "output_type": "execute_result",
          "data": {
            "text/plain": [
              "['oh', 'like', 'know', 'get', 'hey', 'think', 'come', 'right', 'look', 'want']"
            ]
          },
          "metadata": {},
          "execution_count": 26
        }
      ]
    },
    {
      "cell_type": "code",
      "source": [
        "import multiprocessing\n",
        "from gensim.models import Word2Vec"
      ],
      "metadata": {
        "id": "uiS3QyzlPMxb"
      },
      "execution_count": 27,
      "outputs": []
    },
    {
      "cell_type": "code",
      "source": [
        "cores = multiprocessing.cpu_count() # Count the number of cores in a computer"
      ],
      "metadata": {
        "id": "jJFjB94vPNj1"
      },
      "execution_count": 41,
      "outputs": []
    },
    {
      "cell_type": "code",
      "source": [
        "w2v_model = Word2Vec(min_count=20,\n",
        "                     window=2,\n",
        "                     vector_size=300,\n",
        "                     sample=6e-5,\n",
        "                     alpha=0.03,\n",
        "                     min_alpha=0.0007,\n",
        "                     negative=20,\n",
        "                     workers=cores-1)"
      ],
      "metadata": {
        "id": "e2d6ZDixPQY_"
      },
      "execution_count": 31,
      "outputs": []
    },
    {
      "cell_type": "code",
      "source": [
        "t = time()\n",
        "w2v_model.build_vocab(sentences, progress_per=10000)\n",
        "print('Time to build vocab: {} mins'.format(round((time() - t) / 60,\n",
        "2)))"
      ],
      "metadata": {
        "colab": {
          "base_uri": "https://localhost:8080/"
        },
        "id": "FXYQBUdcPWdG",
        "outputId": "8adeeff5-51e5-4df1-d0db-70c16d1a57e1"
      },
      "execution_count": 32,
      "outputs": [
        {
          "output_type": "stream",
          "name": "stdout",
          "text": [
            "Time to build vocab: 0.01 mins\n"
          ]
        }
      ]
    },
    {
      "cell_type": "code",
      "source": [
        "t = time()\n",
        "w2v_model.train(sentences, total_examples=w2v_model.corpus_count,\n",
        "epochs=30, report_delay=1)\n",
        "print('Time to train the model: {} mins'.format(round((time() - t) /\n",
        "60, 2)))\n"
      ],
      "metadata": {
        "colab": {
          "base_uri": "https://localhost:8080/"
        },
        "id": "XWkP7VqdPZyX",
        "outputId": "2a21b8f5-0df1-4407-c3af-39b38dc0e520"
      },
      "execution_count": 33,
      "outputs": [
        {
          "output_type": "stream",
          "name": "stdout",
          "text": [
            "Time to train the model: 1.13 mins\n"
          ]
        }
      ]
    },
    {
      "cell_type": "code",
      "source": [
        "w2v_model.init_sims(replace=True)\n"
      ],
      "metadata": {
        "colab": {
          "base_uri": "https://localhost:8080/"
        },
        "id": "eh3djPk0Pbz3",
        "outputId": "948b0819-358a-4bf4-e3d9-5dc4fb2ba8e0"
      },
      "execution_count": 34,
      "outputs": [
        {
          "output_type": "stream",
          "name": "stderr",
          "text": [
            "<ipython-input-34-c7757d71a30b>:1: DeprecationWarning: Call to deprecated `init_sims` (Gensim 4.0.0 implemented internal optimizations that make calls to init_sims() unnecessary. init_sims() is now obsoleted and will be completely removed in future versions. See https://github.com/RaRe-Technologies/gensim/wiki/Migrating-from-Gensim-3.x-to-4).\n",
            "  w2v_model.init_sims(replace=True)\n",
            "WARNING:gensim.models.keyedvectors:destructive init_sims(replace=True) deprecated & no longer required for space-efficiency\n"
          ]
        }
      ]
    },
    {
      "cell_type": "code",
      "source": [
        "w2v_model.wv.most_similar(positive=[\"homer\"])\n",
        "# TODO: Check the output for \"homer_simpson\", \"marge\", \"bart\"\n"
      ],
      "metadata": {
        "colab": {
          "base_uri": "https://localhost:8080/"
        },
        "id": "WwImUJV1PcR3",
        "outputId": "1eeee9b6-0839-41ab-98e4-4028929e35c3"
      },
      "execution_count": 35,
      "outputs": [
        {
          "output_type": "execute_result",
          "data": {
            "text/plain": [
              "[('sweetheart', 0.7089717984199524),\n",
              " ('marge', 0.6976544857025146),\n",
              " ('humiliate', 0.6959439516067505),\n",
              " ('depressed', 0.6958469152450562),\n",
              " ('gee', 0.6857178211212158),\n",
              " ('snuggle', 0.6756035089492798),\n",
              " ('hammock', 0.6676444411277771),\n",
              " ('embarrassing', 0.6632099151611328),\n",
              " ('badly', 0.6603363752365112),\n",
              " ('terrific', 0.660012423992157)]"
            ]
          },
          "metadata": {},
          "execution_count": 35
        }
      ]
    },
    {
      "cell_type": "code",
      "source": [
        "w2v_model.wv.most_similar(positive=[\"bart\"])"
      ],
      "metadata": {
        "colab": {
          "base_uri": "https://localhost:8080/"
        },
        "id": "E1AYG8tPSI0R",
        "outputId": "037f1bb0-fca9-4a55-a5e9-af14c008876a"
      },
      "execution_count": 40,
      "outputs": [
        {
          "output_type": "execute_result",
          "data": {
            "text/plain": [
              "[('lisa', 0.816462516784668),\n",
              " ('substitute', 0.7469272613525391),\n",
              " ('hearing', 0.7419347763061523),\n",
              " ('mom', 0.7076283097267151),\n",
              " ('convince', 0.705653727054596),\n",
              " ('pay_attention', 0.6990543603897095),\n",
              " ('homework', 0.6973274946212769),\n",
              " ('embarrassing', 0.6957261562347412),\n",
              " ('jealous', 0.6952784061431885),\n",
              " ('dr_hibbert', 0.6891682147979736)]"
            ]
          },
          "metadata": {},
          "execution_count": 40
        }
      ]
    },
    {
      "cell_type": "code",
      "source": [
        "w2v_model.wv.similarity('maggie', 'baby')\n",
        "# TODO: Construct a NxN similarity matrix for the N values: 'maggie',\n",
        "'baby', 'bart', 'nelson', 'tavern'\n"
      ],
      "metadata": {
        "colab": {
          "base_uri": "https://localhost:8080/"
        },
        "id": "3SDCTd9SPgxI",
        "outputId": "9bf29418-b736-4d43-9a75-77b79a5d5ef3"
      },
      "execution_count": 36,
      "outputs": [
        {
          "output_type": "execute_result",
          "data": {
            "text/plain": [
              "('baby', 'bart', 'nelson', 'tavern')"
            ]
          },
          "metadata": {},
          "execution_count": 36
        }
      ]
    },
    {
      "cell_type": "code",
      "source": [
        "w2v_model.wv.similarity('maggie', 'baby')"
      ],
      "metadata": {
        "colab": {
          "base_uri": "https://localhost:8080/"
        },
        "id": "OkTeJh_VSHWO",
        "outputId": "a38e6470-acc9-4427-a223-781731060f04"
      },
      "execution_count": 39,
      "outputs": [
        {
          "output_type": "execute_result",
          "data": {
            "text/plain": [
              "0.76742184"
            ]
          },
          "metadata": {},
          "execution_count": 39
        }
      ]
    },
    {
      "cell_type": "code",
      "source": [
        "w2v_model.wv.doesnt_match([\"nelson\", \"bart\", \"milhouse\"])"
      ],
      "metadata": {
        "colab": {
          "base_uri": "https://localhost:8080/",
          "height": 35
        },
        "id": "QNY0eC_UPiwZ",
        "outputId": "42cbd926-91ca-4605-dacf-e3dc147d1a7a"
      },
      "execution_count": 37,
      "outputs": [
        {
          "output_type": "execute_result",
          "data": {
            "text/plain": [
              "'nelson'"
            ],
            "application/vnd.google.colaboratory.intrinsic+json": {
              "type": "string"
            }
          },
          "metadata": {},
          "execution_count": 37
        }
      ]
    },
    {
      "cell_type": "code",
      "source": [
        "w2v_model.wv.most_similar(positive=[\"woman\", \"homer\"],\n",
        "negative=[\"marge\"], topn=3)"
      ],
      "metadata": {
        "colab": {
          "base_uri": "https://localhost:8080/"
        },
        "id": "exuqyjtEPlTo",
        "outputId": "b46001b4-b3b8-43ba-9ef8-cb9d14b6fa5e"
      },
      "execution_count": 38,
      "outputs": [
        {
          "output_type": "execute_result",
          "data": {
            "text/plain": [
              "[('admire', 0.5787416696548462),\n",
              " ('married', 0.5592732429504395),\n",
              " ('juliet', 0.5509849786758423)]"
            ]
          },
          "metadata": {},
          "execution_count": 38
        }
      ]
    },
    {
      "cell_type": "markdown",
      "source": [
        "# Exercise"
      ],
      "metadata": {
        "id": "3yi8jxIZS0XT"
      }
    },
    {
      "cell_type": "code",
      "source": [
        "import numpy as np\n",
        "import matplotlib.pyplot as plt\n",
        "from matplotlib import style\n",
        "from collections import defaultdict"
      ],
      "metadata": {
        "id": "VNxUA5kaS4Ki"
      },
      "execution_count": 42,
      "outputs": []
    },
    {
      "cell_type": "code",
      "source": [
        "class Model():\n",
        "\n",
        "    def __init__(self, data, settings):\n",
        "\n",
        "        self.settings = settings\n",
        "        self.data = data\n",
        "        self.X = self.data.X\n",
        "        self.fun = np.vectorize(self.f)\n",
        "        self.plot_initialise()\n",
        "        self.J_list = []\n",
        "\n",
        "    def train(self):\n",
        "\n",
        "        self.prepare()\n",
        "        i_list = []\n",
        "        # Iterating through the entire dataset epoch number of times\n",
        "        for i in range(0, self.settings.epoch):\n",
        "\n",
        "            delta = self.fun(self.X) * (self.U @ self.V - np.log(self.X))\n",
        "            U_grad = delta @ self.V.T\n",
        "            V_grad = self.U.T @ delta\n",
        "\n",
        "            U_grad[:, self.settings.d+1] = 0\n",
        "            V_grad[self.settings.d+1, :] = 0\n",
        "\n",
        "            # Updating U and V\n",
        "            self.U = self.U - self.settings.a * U_grad\n",
        "            self.V = self.V - self.settings.a * V_grad\n",
        "\n",
        "            # Plotting Loss\n",
        "            self.update_loss()\n",
        "            i_list.append(i)\n",
        "        self.plot(i_list)\n",
        "\n",
        "    def prepare(self):\n",
        "\n",
        "        self.U = np.random.uniform(-1, 1, (self.data.T, self.settings.d + 2))\n",
        "        self.V = np.random.uniform(-1, 1, (self.settings.d + 2, self.data.T))\n",
        "\n",
        "        for i in range(0, self.data.T):\n",
        "            self.U[self.settings.d + 1, i] = 1\n",
        "            self.V[i, self.settings.d + 1] = 1\n",
        "\n",
        "    def f(self, x):\n",
        "\n",
        "        if x > self.settings.xmax:\n",
        "            return 1\n",
        "\n",
        "        else:\n",
        "            y = (x/self.settings.xmax)**self.settings.f_a\n",
        "            return y\n",
        "\n",
        "    def update_loss(self):\n",
        "\n",
        "        J = self.fun(self.X) * ((self.U @ self.V - np.log(self.X))**2)\n",
        "        self.J = J.sum() / 2\n",
        "        self.J_list.append(self.J)\n",
        "\n",
        "    def plot(self, i_list):\n",
        "\n",
        "        # s - Marker size\n",
        "        plt.scatter(i_list, self.J_list, color = 'red', s = 3)\n",
        "        plt.show(block = False)\n",
        "        plt.pause(0.001)\n",
        "\n",
        "    def plot_initialise(self):\n",
        "\n",
        "        style.use('dark_background')\n",
        "        plt.figure()\n",
        "        plt.xlabel('Number of iterations')\n",
        "        plt.ylabel('Loss')\n",
        "\n",
        "    def predict(self, word):\n",
        "\n",
        "        index = self.data.word_index[word]\n",
        "        w = self.U[index, :].T + self.V[:, index]\n",
        "        return w[1:-1] / 2"
      ],
      "metadata": {
        "id": "zU5T5zVVS6Iy"
      },
      "execution_count": 43,
      "outputs": []
    },
    {
      "cell_type": "code",
      "source": [
        "class Settings():\n",
        "\n",
        "    def __init__(self):\n",
        "\n",
        "        # Hyper Parameter\n",
        "        self.m = 3\n",
        "        self.d = 10\n",
        "        self.a = 0.01\n",
        "        self.epoch = 100\n",
        "        self.xmax = 1\n",
        "        self.f_a = 0.75"
      ],
      "metadata": {
        "id": "pjvX0NzsS-37"
      },
      "execution_count": 44,
      "outputs": []
    },
    {
      "cell_type": "code",
      "source": [
        "class Data():\n",
        "\n",
        "    def __init__(self, settings):\n",
        "\n",
        "        self.m = settings.m\n",
        "        self.make_corpus()\n",
        "        self.co_occurrence_matrix()\n",
        "\n",
        "    def make_corpus(self):\n",
        "\n",
        "        text = \"i love doing this project it is the thing which i enjoy the most\"\n",
        "        corpus = [[word.lower() for word in text.split()]]\n",
        "        self.corpus = corpus\n",
        "\n",
        "    def preparation(self):\n",
        "\n",
        "        \"\"\" Making the frequency matrix\"\"\"\n",
        "        self.word_freq = defaultdict(int)\n",
        "\n",
        "        for sentence in self.corpus:\n",
        "            for word in sentence:\n",
        "                self.word_freq[word] += 1\n",
        "\n",
        "        # self.words decide the index of all the words\n",
        "        self.words = list(self.word_freq.keys())\n",
        "        self.T = len(self.words)\n",
        "\n",
        "        # word_index will give index for a given word and vice versa for index_word\n",
        "        self.word_index = dict([[word, i] for i, word in enumerate(self.words)])\n",
        "        self.index_word = dict([[i, word] for i, word in enumerate(self.words)])\n",
        "\n",
        "    def co_occurrence_matrix(self):\n",
        "\n",
        "        self.preparation()\n",
        "\n",
        "        # In X each word have a particular row and column according to their index.\n",
        "        # Xij - tabulate number of times word j appear in the context of word i\n",
        "        self.X = np.zeros([self.T, self.T])\n",
        "        self.X += 0.0001\n",
        "\n",
        "        for sentence in self.corpus:\n",
        "\n",
        "            sen_len = len(sentence)\n",
        "\n",
        "            for i, c_word in enumerate(sentence):\n",
        "                # target is the center word index\n",
        "                # context is the context word index\n",
        "                target = self.word_index[c_word]\n",
        "\n",
        "                for j in range(i-self.m, i+self.m+1):\n",
        "\n",
        "                    if j != i and 0 <= j and j < sen_len:\n",
        "\n",
        "                        context_word = sentence[j]\n",
        "                        context = self.word_index[context_word]\n",
        "                        self.X[target, context] += 1 / abs(i-j)"
      ],
      "metadata": {
        "id": "ujh3uo9TTCGK"
      },
      "execution_count": 45,
      "outputs": []
    },
    {
      "cell_type": "code",
      "source": [
        "\"\"\" Conventions\n",
        "\n",
        "   m - Window size\n",
        "   d - Dimension of vectors\n",
        "   a - Learning rate\n",
        "   U - Matrix for hidden layer calculation\n",
        "   V - Matrix for output calculation\n",
        "   X - Co-occurrence matrix\n",
        "   T - Total number of unique words\n",
        "   J - Loss\n",
        "   u - target vector\n",
        "   v - context vector\n",
        "\n",
        "\"\"\"\n",
        "\n",
        "settings = Settings()\n",
        "data = Data(settings)\n",
        "model = Model(data, settings)\n",
        "model.train()"
      ],
      "metadata": {
        "colab": {
          "base_uri": "https://localhost:8080/",
          "height": 449
        },
        "id": "qgaLNib4TDOq",
        "outputId": "ed6540fd-35ab-473f-b5eb-005c7222a78a"
      },
      "execution_count": 46,
      "outputs": [
        {
          "output_type": "display_data",
          "data": {
            "text/plain": [
              "<Figure size 640x480 with 1 Axes>"
            ],
            "image/png": "[encoded data removed]"
          },
          "metadata": {}
        }
      ]
    },
    {
      "cell_type": "code",
      "source": [
        "word = input('Enter the word whose vector you wanna see.\\n')\n",
        "print(model.predict(word))"
      ],
      "metadata": {
        "colab": {
          "base_uri": "https://localhost:8080/"
        },
        "id": "ctLASoP7TGCq",
        "outputId": "2645ea14-d299-405f-99a3-684eced25e0c"
      },
      "execution_count": 47,
      "outputs": [
        {
          "output_type": "stream",
          "name": "stdout",
          "text": [
            "Enter the word whose vector you wanna see.\n",
            "thing\n",
            "[ 0.34752367  0.0585213  -0.64194196 -0.74397698 -0.33905294 -0.68235125\n",
            "  0.75592087  0.09306735 -0.2719898  -0.84537667]\n"
          ]
        }
      ]
    }
  ]
}