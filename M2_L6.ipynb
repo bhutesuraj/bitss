{
  "nbformat": 4,
  "nbformat_minor": 0,
  "metadata": {
    "colab": {
      "provenance": []
    },
    "kernelspec": {
      "name": "python3",
      "display_name": "Python 3"
    },
    "language_info": {
      "name": "python"
    }
  },
  "cells": [
    {
      "cell_type": "markdown",
      "source": [
        "# Paraphrasing using LSTM, Bidirectional LSTM, Stacked LSTM"
      ],
      "metadata": {
        "id": "o_rorsqlcCtS"
      }
    },
    {
      "cell_type": "markdown",
      "source": [
        "We will be implementing paraphrasing task in this notebook, you will learn how to create a language model for paraphrasing of natural language text by implement and training LSTM.\n",
        "\n",
        "Generating News headlines\n",
        "In this kernel, I will be using the dataset of Google’s PAWS: Paraphrase Adversaries from Word Scrambling: to train a paraphrasing language model.\n",
        "It focuses on generating challenging sentence pairs by using paraphrasing techniques.\n",
        "\n",
        "\n",
        "1. Import the libraries\n",
        "As the first step, we need to import the required libraries:"
      ],
      "metadata": {
        "id": "KnwPjHZTb5Za"
      }
    },
    {
      "cell_type": "code",
      "source": [
        "import pandas as pd\n",
        "import numpy as np\n",
        "import string, os\n",
        "\n",
        "import warnings\n",
        "warnings.filterwarnings(\"ignore\")\n",
        "warnings.simplefilter(action='ignore', category=FutureWarning)"
      ],
      "metadata": {
        "id": "_-ef8jC8VIcK"
      },
      "execution_count": 37,
      "outputs": []
    },
    {
      "cell_type": "code",
      "source": [
        "import numpy as np\n",
        "from tensorflow.keras.models import Sequential\n",
        "from tensorflow.keras.layers import LSTM, Bidirectional, Embedding, Dense\n",
        "from tensorflow.keras.preprocessing.text import Tokenizer\n",
        "from tensorflow.keras.preprocessing.sequence import pad_sequences"
      ],
      "metadata": {
        "id": "vSSarKKuc7TF"
      },
      "execution_count": null,
      "outputs": []
    },
    {
      "cell_type": "markdown",
      "source": [
        "## 2. Load the dataset\n",
        "\n",
        "Load the dataset where use second coulmn as original sentence and third coulmn as paraphrase sentence"
      ],
      "metadata": {
        "id": "5Fd1uejQcNRa"
      }
    },
    {
      "cell_type": "code",
      "source": [
        "# Read TSV file\n",
        "curr_dir = '/content/'\n",
        "filename = 'train.tsv'  # Replace with your TSV file name\n",
        "data_df = pd.read_csv(os.path.join(curr_dir, filename), delimiter='\\t')\n",
        "\n",
        "# Filter out rows with missing values\n",
        "data_df = data_df.dropna()\n",
        "\n",
        "# Create sentence pairs from 'sentence1' and 'sentence2' columns\n",
        "sentences = data_df['sentence1'].tolist()\n",
        "paraphrases = data_df['sentence2'].tolist()"
      ],
      "metadata": {
        "id": "sSksJ0XMchbe"
      },
      "execution_count": null,
      "outputs": []
    },
    {
      "cell_type": "markdown",
      "source": [
        "### 3 Generating Sequence of N-gram Tokens\n",
        "\n",
        "IT requires a sequence input data, as given a sequence (of words/tokens) the aim to rephrase word/token.  \n",
        "\n",
        "The next step is Tokenization. Tokenization is a process of extracting tokens (terms / words) from a corpus. Python’s library Keras has inbuilt model for tokenization which can be used to obtain the tokens and their index in the corpus. After this step, every text document in the dataset is converted into sequence of tokens.\n"
      ],
      "metadata": {
        "id": "pAPoLa9AcYCK"
      }
    },
    {
      "cell_type": "code",
      "source": [
        "# Tokenization\n",
        "tokenizer = Tokenizer()\n",
        "tokenizer.fit_on_texts(sentences + paraphrases)\n",
        "\n",
        "# Convert sentences to sequences\n",
        "sentences_seq = tokenizer.texts_to_sequences(sentences)\n",
        "paraphrases_seq = tokenizer.texts_to_sequences(paraphrases)\n",
        "\n",
        "# Padding sequences\n",
        "max_length = max(len(seq) for seq in sentences_seq + paraphrases_seq)\n",
        "sentences_seq = pad_sequences(sentences_seq, maxlen=max_length, padding='post')\n",
        "paraphrases_seq = pad_sequences(paraphrases_seq, maxlen=max_length, padding='post')\n"
      ],
      "metadata": {
        "id": "zAzWVDXdbW6B"
      },
      "execution_count": 38,
      "outputs": []
    },
    {
      "cell_type": "code",
      "source": [
        "sentences_seq[:2]  ## to visualise the token"
      ],
      "metadata": {
        "colab": {
          "base_uri": "https://localhost:8080/"
        },
        "id": "EeTMg0s9h2Vb",
        "outputId": "a8950cf8-6496-4b29-9add-cac4afdbfee5"
      },
      "execution_count": 53,
      "outputs": [
        {
          "output_type": "execute_result",
          "data": {
            "text/plain": [
              "array([[   1, 9083, 9084,   19,  350,  382,  691,    2, 3450, 1062,    3,\n",
              "        1502,    2,    1,  234, 9085,   13,    1, 3317, 4492,    0,    0,\n",
              "           0,    0,    0,    0,    0,    0,    0,    0,    0,    0,    0],\n",
              "       [1194,  314,    7,   18,    1, 1194,  314, 1352,  965, 1353,  167,\n",
              "         623,    4,    1, 1194,  314, 1352,  965, 1353, 1063,  175,    0,\n",
              "           0,    0,    0,    0,    0,    0,    0,    0,    0,    0,    0]],\n",
              "      dtype=int32)"
            ]
          },
          "metadata": {},
          "execution_count": 53
        }
      ]
    },
    {
      "cell_type": "markdown",
      "source": [
        "\n",
        "\n",
        "## 4. LSTMs for paraphrasing\n",
        "\n",
        "Unlike Feed-forward neural networks in which activation outputs are propagated only in one direction, the activation outputs from neurons propagate in both directions (from inputs to outputs and from outputs to inputs) in Recurrent Neural Networks. This creates loops in the neural network architecture which acts as a ‘memory state’ of the neurons. This state allows the neurons an ability to remember what have been learned so far.\n",
        "\n",
        "The memory state in RNNs gives an advantage over traditional neural networks but a problem called Vanishing Gradient is associated with them. In this problem, while learning with a large number of layers, it becomes really hard for the network to learn and tune the parameters of the earlier layers. To address this problem, A new type of RNNs called LSTMs (Long Short Term Memory) Models have been developed.\n",
        "\n",
        "LSTMs have an additional state called ‘cell state’ through which the network makes adjustments in the information flow. The advantage of this state is that the model can remember or forget the leanings more selectively. To learn more about LSTMs, here is a great post. Lets architecture a LSTM model in our code. I have added total three layers in the model.\n",
        "\n",
        "1. Embedding Layer : Takes the sequence of words as input\n",
        "2. LSTM Layer : Computes the output using LSTM units. I have added 100 units in the layer, but this number can be fine tuned later.\n",
        "4. Dense/Output Layer : Computes the probability of the best possible next word as output\n",
        "\n",
        "We will run this model for total 10 epochs but it can be experimented further."
      ],
      "metadata": {
        "id": "VQhF-tiodNeM"
      }
    },
    {
      "cell_type": "markdown",
      "source": [
        "LSTM model"
      ],
      "metadata": {
        "id": "CNc7ORTmdrMc"
      }
    },
    {
      "cell_type": "code",
      "source": [
        "def create_lstm_model():\n",
        "    model = Sequential()\n",
        "    model.add(Embedding(len(tokenizer.word_index) + 1, 50, input_length=max_length))\n",
        "    model.add(LSTM(100))\n",
        "    model.add(Dense(max_length, activation='softmax'))\n",
        "    model.compile(loss='categorical_crossentropy', optimizer='adam', metrics=['accuracy'])\n",
        "    return model"
      ],
      "metadata": {
        "id": "nHuh79sASaJS"
      },
      "execution_count": 40,
      "outputs": []
    },
    {
      "cell_type": "markdown",
      "source": [
        "Bidirectional LSTM model"
      ],
      "metadata": {
        "id": "8tTla8KUdt3e"
      }
    },
    {
      "cell_type": "code",
      "source": [
        "def create_bidirectional_lstm_model():\n",
        "    model = Sequential()\n",
        "    model.add(Embedding(len(tokenizer.word_index) + 1, 50, input_length=max_length))\n",
        "    model.add(Bidirectional(LSTM(100)))\n",
        "    model.add(Dense(max_length, activation='softmax'))\n",
        "    model.compile(loss='categorical_crossentropy', optimizer='adam', metrics=['accuracy'])\n",
        "    return model\n"
      ],
      "metadata": {
        "id": "fu9rqcBiSfJz"
      },
      "execution_count": 41,
      "outputs": []
    },
    {
      "cell_type": "markdown",
      "source": [
        "Stacked LSTM model"
      ],
      "metadata": {
        "id": "vO83uoHydxpS"
      }
    },
    {
      "cell_type": "code",
      "source": [
        "def create_stacked_lstm_model():\n",
        "    model = Sequential()\n",
        "    model.add(Embedding(len(tokenizer.word_index) + 1, 50, input_length=max_length))\n",
        "    model.add(LSTM(50, return_sequences=True))\n",
        "    model.add(LSTM(50))\n",
        "    model.add(Dense(max_length, activation='softmax'))\n",
        "    model.compile(loss='categorical_crossentropy', optimizer='adam', metrics=['accuracy'])\n",
        "    return model"
      ],
      "metadata": {
        "id": "uuXQWXDbShpB"
      },
      "execution_count": 42,
      "outputs": []
    },
    {
      "cell_type": "markdown",
      "source": [
        "you can run the summary function to differentiate the lstm model variants layers"
      ],
      "metadata": {
        "id": "Jir6AJ3wi5lk"
      }
    },
    {
      "cell_type": "code",
      "source": [
        "lstm_model.summary()"
      ],
      "metadata": {
        "colab": {
          "base_uri": "https://localhost:8080/"
        },
        "id": "QYgtm_FUUL7Z",
        "outputId": "16997b25-7cdd-4a4b-fa23-1a68d136b341"
      },
      "execution_count": 43,
      "outputs": [
        {
          "output_type": "stream",
          "name": "stdout",
          "text": [
            "Model: \"sequential_9\"\n",
            "_________________________________________________________________\n",
            " Layer (type)                Output Shape              Param #   \n",
            "=================================================================\n",
            " embedding_9 (Embedding)     (None, 33, 50)            723450    \n",
            "                                                                 \n",
            " lstm_11 (LSTM)              (None, 100)               60400     \n",
            "                                                                 \n",
            " dense_9 (Dense)             (None, 33)                3333      \n",
            "                                                                 \n",
            "=================================================================\n",
            "Total params: 787183 (3.00 MB)\n",
            "Trainable params: 787183 (3.00 MB)\n",
            "Non-trainable params: 0 (0.00 Byte)\n",
            "_________________________________________________________________\n"
          ]
        }
      ]
    },
    {
      "cell_type": "code",
      "source": [
        "bidirectional_lstm_model.summary()"
      ],
      "metadata": {
        "colab": {
          "base_uri": "https://localhost:8080/"
        },
        "id": "xxKdcDWbdavD",
        "outputId": "fc113426-b4d5-48a9-8214-866e8784fac6"
      },
      "execution_count": 54,
      "outputs": [
        {
          "output_type": "stream",
          "name": "stdout",
          "text": [
            "Model: \"sequential_11\"\n",
            "_________________________________________________________________\n",
            " Layer (type)                Output Shape              Param #   \n",
            "=================================================================\n",
            " embedding_11 (Embedding)    (None, 33, 50)            723450    \n",
            "                                                                 \n",
            " bidirectional_3 (Bidirecti  (None, 200)               120800    \n",
            " onal)                                                           \n",
            "                                                                 \n",
            " dense_11 (Dense)            (None, 33)                6633      \n",
            "                                                                 \n",
            "=================================================================\n",
            "Total params: 850883 (3.25 MB)\n",
            "Trainable params: 850883 (3.25 MB)\n",
            "Non-trainable params: 0 (0.00 Byte)\n",
            "_________________________________________________________________\n"
          ]
        }
      ]
    },
    {
      "cell_type": "code",
      "source": [
        "stacked_lstm_model.summary()"
      ],
      "metadata": {
        "colab": {
          "base_uri": "https://localhost:8080/"
        },
        "id": "Y8SSHV2JdfKr",
        "outputId": "616e098f-8e4f-4781-f982-f68e185b1287"
      },
      "execution_count": 56,
      "outputs": [
        {
          "output_type": "stream",
          "name": "stdout",
          "text": [
            "Model: \"sequential_12\"\n",
            "_________________________________________________________________\n",
            " Layer (type)                Output Shape              Param #   \n",
            "=================================================================\n",
            " embedding_12 (Embedding)    (None, 33, 50)            723450    \n",
            "                                                                 \n",
            " lstm_14 (LSTM)              (None, 33, 50)            20200     \n",
            "                                                                 \n",
            " lstm_15 (LSTM)              (None, 50)                20200     \n",
            "                                                                 \n",
            " dense_12 (Dense)            (None, 33)                1683      \n",
            "                                                                 \n",
            "=================================================================\n",
            "Total params: 765533 (2.92 MB)\n",
            "Trainable params: 765533 (2.92 MB)\n",
            "Non-trainable params: 0 (0.00 Byte)\n",
            "_________________________________________________________________\n"
          ]
        }
      ]
    },
    {
      "cell_type": "markdown",
      "source": [
        "Lets train our model now"
      ],
      "metadata": {
        "id": "ZL4RDIkFdXPG"
      }
    },
    {
      "cell_type": "code",
      "source": [
        "lstm_model = create_lstm_model()\n",
        "lstm_model.fit(sentences_seq, paraphrases_seq, epochs=10, verbose=5)"
      ],
      "metadata": {
        "colab": {
          "base_uri": "https://localhost:8080/"
        },
        "id": "3OB4efTYSjcx",
        "outputId": "68b5bcb9-b838-4617-a6fa-1f3fce746de0"
      },
      "execution_count": 44,
      "outputs": [
        {
          "output_type": "stream",
          "name": "stdout",
          "text": [
            "Epoch 1/10\n",
            "Epoch 2/10\n",
            "Epoch 3/10\n",
            "Epoch 4/10\n",
            "Epoch 5/10\n",
            "Epoch 6/10\n",
            "Epoch 7/10\n",
            "Epoch 8/10\n",
            "Epoch 9/10\n",
            "Epoch 10/10\n"
          ]
        },
        {
          "output_type": "execute_result",
          "data": {
            "text/plain": [
              "<keras.src.callbacks.History at 0x7eb4b36729b0>"
            ]
          },
          "metadata": {},
          "execution_count": 44
        }
      ]
    },
    {
      "cell_type": "code",
      "source": [
        "bidirectional_lstm_model = create_bidirectional_lstm_model()\n",
        "bidirectional_lstm_model.fit(sentences_seq, paraphrases_seq, epochs=10, verbose=5)\n"
      ],
      "metadata": {
        "colab": {
          "base_uri": "https://localhost:8080/"
        },
        "id": "fNSmef8lSpkB",
        "outputId": "e6fb0b18-14ab-4a5d-8400-091b482cf30f"
      },
      "execution_count": 45,
      "outputs": [
        {
          "output_type": "stream",
          "name": "stdout",
          "text": [
            "Epoch 1/10\n",
            "Epoch 2/10\n",
            "Epoch 3/10\n",
            "Epoch 4/10\n",
            "Epoch 5/10\n",
            "Epoch 6/10\n",
            "Epoch 7/10\n",
            "Epoch 8/10\n",
            "Epoch 9/10\n",
            "Epoch 10/10\n"
          ]
        },
        {
          "output_type": "execute_result",
          "data": {
            "text/plain": [
              "<keras.src.callbacks.History at 0x7eb4ada50b80>"
            ]
          },
          "metadata": {},
          "execution_count": 45
        }
      ]
    },
    {
      "cell_type": "code",
      "source": [
        "stacked_lstm_model = create_stacked_lstm_model()\n",
        "stacked_lstm_model.fit(sentences_seq, paraphrases_seq, epochs=10, verbose=5)\n"
      ],
      "metadata": {
        "colab": {
          "base_uri": "https://localhost:8080/"
        },
        "id": "5NXROTS0Sskh",
        "outputId": "3da14a03-675a-4894-c6e5-49487c456f90"
      },
      "execution_count": 46,
      "outputs": [
        {
          "output_type": "stream",
          "name": "stdout",
          "text": [
            "Epoch 1/10\n",
            "Epoch 2/10\n",
            "Epoch 3/10\n",
            "Epoch 4/10\n",
            "Epoch 5/10\n",
            "Epoch 6/10\n",
            "Epoch 7/10\n",
            "Epoch 8/10\n",
            "Epoch 9/10\n",
            "Epoch 10/10\n"
          ]
        },
        {
          "output_type": "execute_result",
          "data": {
            "text/plain": [
              "<keras.src.callbacks.History at 0x7eb4ad62e980>"
            ]
          },
          "metadata": {},
          "execution_count": 46
        }
      ]
    },
    {
      "cell_type": "markdown",
      "source": [
        "Great, our model architecture is now ready and we can train it using our data. Next lets write the function to predict the next word based on the input words (or seed text). We will first tokenize the seed text, pad the sequences and pass into the trained model to get predicted word. The multiple predicted words can be appended together to get predicted sequence."
      ],
      "metadata": {
        "id": "eau82swTd2Q2"
      }
    },
    {
      "cell_type": "code",
      "source": [
        "def test_model(model, sentence):\n",
        "    # Convert the input sentence to sequence\n",
        "    sequence = tokenizer.texts_to_sequences([sentence])\n",
        "\n",
        "    # Pad the sequence\n",
        "    sequence = pad_sequences(sequence, maxlen=5, padding='post')\n",
        "\n",
        "    # Predict paraphrased sequence\n",
        "    predicted_seq = model.predict(sequence)\n",
        "\n",
        "    # Convert predicted sequence back to text\n",
        "    predicted_sentence = []\n",
        "    for idx in np.argmax(predicted_seq, axis=1):\n",
        "        word = tokenizer.index_word.get(idx, '')\n",
        "        if word:\n",
        "            predicted_sentence.append(word)\n",
        "        if word == '<end>':  # Assuming '<end>' is the end token\n",
        "            break\n",
        "\n",
        "    predicted_sentence = ' '.join(predicted_sentence)\n",
        "\n",
        "    return predicted_sentence\n",
        "\n",
        "# Test sentences\n",
        "test_sentences = [\n",
        "    \"I enjoy coding a lot\",\n",
        "    \"Programming gives me joy\",\n",
        "]\n",
        "\n",
        "# Test each model\n",
        "print(\"Testing LSTM model:\")\n",
        "for sentence in test_sentences:\n",
        "    paraphrase = test_model(lstm_model, sentence)\n",
        "    print(f\"Original: {sentence} -> Paraphrase: {paraphrase}\")\n",
        "\n",
        "print(\"\\nTesting Bidirectional LSTM model:\")\n",
        "for sentence in test_sentences:\n",
        "    paraphrase = test_model(bidirectional_lstm_model, sentence)\n",
        "    print(f\"Original: {sentence} -> Paraphrase: {paraphrase}\")\n",
        "\n",
        "print(\"\\nTesting Stacked LSTM model:\")\n",
        "for sentence in test_sentences:\n",
        "    paraphrase = test_model(stacked_lstm_model, sentence)\n",
        "    print(f\"Original: {sentence} -> Paraphrase: {paraphrase}\")\n"
      ],
      "metadata": {
        "colab": {
          "base_uri": "https://localhost:8080/"
        },
        "id": "bfIOUZfUehmT",
        "outputId": "f43f4633-ac54-4fd9-9a53-a0dcc0845770"
      },
      "execution_count": 50,
      "outputs": [
        {
          "output_type": "stream",
          "name": "stdout",
          "text": [
            "Testing LSTM model:\n",
            "1/1 [==============================] - 0s 20ms/step\n",
            "Original: I enjoy coding a lot -> Paraphrase: a\n",
            "1/1 [==============================] - 0s 20ms/step\n",
            "Original: Programming gives me joy -> Paraphrase: a\n",
            "\n",
            "Testing Bidirectional LSTM model:\n",
            "1/1 [==============================] - 0s 23ms/step\n",
            "Original: I enjoy coding a lot -> Paraphrase: the\n",
            "1/1 [==============================] - 0s 22ms/step\n",
            "Original: Programming gives me joy -> Paraphrase: the\n",
            "\n",
            "Testing Stacked LSTM model:\n",
            "1/1 [==============================] - 0s 20ms/step\n",
            "Original: I enjoy coding a lot -> Paraphrase: is\n",
            "1/1 [==============================] - 0s 23ms/step\n",
            "Original: Programming gives me joy -> Paraphrase: is\n"
          ]
        }
      ]
    },
    {
      "cell_type": "markdown",
      "source": [
        "This code will test each model with the provided test sentences and print out the original sentence along with its paraphrased version according to each model.\n",
        "\n",
        "Run this testing code after training the models to see the paraphrased results for the test sentences. Remember, the quality of paraphrasing might low or vary based on the complexity of the sentence and the model's training data. Adjustments like adding more data or tuning hyperparameters could improve the results. This is a example to learn the implementation of LSTM varients"
      ],
      "metadata": {
        "id": "sPiajLW4eUBT"
      }
    },
    {
      "cell_type": "markdown",
      "source": [
        "### **EXERCISE:-** You many change the hypermarameters of the model and see the difference in results"
      ],
      "metadata": {
        "id": "VvU6aSXEfIYC"
      }
    }
  ]
}